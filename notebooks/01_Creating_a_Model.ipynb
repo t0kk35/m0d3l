{
 "cells": [
  {
   "cell_type": "markdown",
   "id": "e973e2d6",
   "metadata": {},
   "source": [
    "# Creating a Model\n",
    "----\n",
    "\n",
    "In this notebook we will create our first Neural Net, a very simple one and we'll have it make some un-educated predictions. The predictions will be in-educated because we won't train the NN until later notebooks, but having it make predictions will show the in and output of Models in general."
   ]
  },
  {
   "cell_type": "markdown",
   "id": "3b60af6c",
   "metadata": {},
   "source": [
    "## Requirements\n",
    "Before running the experiment, make sure to import the `numpy`, `pandas` and `numba`, `torch`, `tqdm`, `matplotlib` packages in your virtual environment\n",
    "```\n",
    "> pip install numpy\n",
    "> pip install pandas\n",
    "> pip install numba\n",
    "> pip install torch\n",
    "> pip install tqdm\n",
    "> pip install matplotlib\n",
    "```\n",
    "And that the notebook can find the `f3atur3s`, `eng1n3` and `m0d3l` packages.\n"
   ]
  },
  {
   "cell_type": "markdown",
   "id": "19eaf9e0",
   "metadata": {},
   "source": [
    "## Preparation\n",
    "\n",
    "Before creating features, we will have to import a couple of packages"
   ]
  },
  {
   "cell_type": "code",
   "execution_count": 1,
   "id": "6925faf4",
   "metadata": {},
   "outputs": [],
   "source": [
    "%matplotlib inline\n",
    "\n",
    "import numpy as np\n",
    "import pandas as pd\n",
    "import math\n",
    "import torch\n",
    "import torch.nn as nn\n",
    "import matplotlib.pyplot as plt\n",
    "import f3atur3s as ft\n",
    "import eng1n3.pandas as en\n",
    "import m0d3l.pytorch as mp\n",
    "\n",
    "from typing import Tuple"
   ]
  },
  {
   "cell_type": "markdown",
   "id": "5814d1dc",
   "metadata": {},
   "source": [
    "And we define the **file** we will read from. For now, we'll use the same example as in the previous notebooks. It still very much looks like it did before"
   ]
  },
  {
   "cell_type": "code",
   "execution_count": 2,
   "id": "65dd8692",
   "metadata": {},
   "outputs": [],
   "source": [
    "file = './data/intro_card.csv'"
   ]
  },
  {
   "cell_type": "code",
   "execution_count": 3,
   "id": "3d3f920f",
   "metadata": {},
   "outputs": [
    {
     "name": "stdout",
     "output_type": "stream",
     "text": [
      "Date,Amount,Card,Merchant,MCC,Country,Fraud\r\n",
      "20200101,1.0,CARD-1,MRC-1,0001,DE,0\r\n",
      "20200102,2.0,CARD-2,MRC-2,0002,GB,0\r\n",
      "20200103,3.0,CARD-1,MRC-3,0003,DE,1\r\n",
      "20200104,4.0,CARD-1,MRC-3,0003,FR,0\r\n",
      "20200104,5.0,CARD-2,MRC-2,0002,GB,0\r\n",
      "20200106,6.0,CARD-2,MRC-4,,DE,0"
     ]
    }
   ],
   "source": [
    "!cat $file"
   ]
  },
  {
   "cell_type": "markdown",
   "id": "7a709852",
   "metadata": {},
   "source": [
    "## Setting up the features.\n",
    "\n",
    "We'll begin with the typical steps, by setting up the features and making a numpy instance out of them. As base, we'll make a TensorDefinition containing the OneHot encoded 'MCC' and 'Country' features, one for the 'Scaled Amount' and one for the 'Fraud' label."
   ]
  },
  {
   "cell_type": "code",
   "execution_count": 4,
   "id": "07f9c83c",
   "metadata": {},
   "outputs": [
    {
     "name": "stderr",
     "output_type": "stream",
     "text": [
      "2023-04-02 12:05:52.486 eng1n3.common.engine           INFO     Start Engine...\n",
      "2023-04-02 12:05:52.487 eng1n3.pandas.pandasengine     INFO     Pandas Version : 1.5.3\n",
      "2023-04-02 12:05:52.488 eng1n3.pandas.pandasengine     INFO     Numpy Version : 1.23.5\n",
      "2023-04-02 12:05:52.489 eng1n3.pandas.pandasengine     INFO     Building Panda for : All_r_1 from file ./data/intro_card.csv\n",
      "2023-04-02 12:05:52.500 eng1n3.pandas.pandasengine     INFO     Reshaping DataFrame to: All_r_1\n",
      "2023-04-02 12:05:52.501 eng1n3.pandas.pandasengine     INFO     Converting All_r_1 to 3 numpy arrays\n"
     ]
    }
   ],
   "source": [
    "amount   = ft.FeatureSource('Amount', ft.FEATURE_TYPE_FLOAT_32)\n",
    "mcc      = ft.FeatureSource('MCC', ft.FEATURE_TYPE_CATEGORICAL, default='0000')\n",
    "country  = ft.FeatureSource('Country', ft.FEATURE_TYPE_CATEGORICAL)\n",
    "fraud    = ft.FeatureSource('Fraud', ft.FEATURE_TYPE_INT_8)\n",
    "\n",
    "amount_scaled = ft.FeatureNormalizeScale('Scaled_Amount', ft.FEATURE_TYPE_FLOAT_32, amount)\n",
    "mcc_oh        = ft.FeatureOneHot('MCC_OH', ft.FEATURE_TYPE_INT_8,  mcc)\n",
    "country_oh    = ft.FeatureOneHot('Country_OH', ft.FEATURE_TYPE_INT_8, country)\n",
    "fraud_label   = ft.FeatureLabelBinary('Fraud_Label', ft.FEATURE_TYPE_INT_8, fraud)\n",
    "\n",
    "td_oh     = ft.TensorDefinition('Features_OH', [mcc_oh, country_oh])\n",
    "td_amount = ft.TensorDefinition('Feature_Amount', [amount])\n",
    "td_label  = ft.TensorDefinition('Feature_Fraud', [fraud_label])\n",
    "\n",
    "\n",
    "with en.EnginePandas(num_threads=1) as e:\n",
    "    ti = e.np_from_csv((td_oh, td_amount, td_label), file, inference=False)"
   ]
  },
  {
   "cell_type": "code",
   "execution_count": 5,
   "id": "6eab178a",
   "metadata": {},
   "outputs": [
    {
     "data": {
      "text/plain": [
       "TensorInstance with shapes: ((6, 7), (6, 1), (6, 1))"
      ]
     },
     "execution_count": 5,
     "metadata": {},
     "output_type": "execute_result"
    }
   ],
   "source": [
    "ti"
   ]
  },
  {
   "cell_type": "markdown",
   "id": "3d0428f7",
   "metadata": {},
   "source": [
    "### Splitting \n",
    "(For giggles with a dataset this small)"
   ]
  },
  {
   "cell_type": "code",
   "execution_count": 6,
   "id": "1f9bfdbe",
   "metadata": {},
   "outputs": [
    {
     "data": {
      "text/plain": [
       "(TensorInstance with shapes: ((3, 7), (3, 1), (3, 1)),\n",
       " TensorInstance with shapes: ((2, 7), (2, 1), (2, 1)),\n",
       " TensorInstance with shapes: ((1, 7), (1, 1), (1, 1)))"
      ]
     },
     "execution_count": 6,
     "metadata": {},
     "output_type": "execute_result"
    }
   ],
   "source": [
    "train, val, test = ti.split_sequential(2,1)\n",
    "train, val, test"
   ]
  },
  {
   "cell_type": "markdown",
   "id": "3f62647f",
   "metadata": {},
   "source": [
    "### DataSet\n",
    "\n",
    "Next Thing we do is create a `Torch DataSet`. A DataSet is a 'Torch' object that can convert our sample data into Tensors. Tensors are x-dimensional spaces in which we hold our feature and they will be the input to our models. After we created a DataSet, we can access individual items of the data-set, i.e. specific samples. They now no longer hold Numpy arrays, but Tensors. (No worries, Numpy and Torch can share memory, we're not allocating everything twice)"
   ]
  },
  {
   "cell_type": "code",
   "execution_count": 7,
   "id": "e590aaf4",
   "metadata": {},
   "outputs": [],
   "source": [
    "# Creating DataSets from our NumpyInstance\n",
    "train_ds = mp.TensorInstanceNumpyDataSet(train)\n",
    "val_ds   = mp.TensorInstanceNumpyDataSet(val)"
   ]
  },
  {
   "cell_type": "markdown",
   "id": "f9eda694",
   "metadata": {},
   "source": [
    "Because our `TensorInstanceNumpy` contained 3 arrays, each sample we draw from the DataSet also contains 3 tensors. Here we see the 1st sample. \n",
    "- The first tensor is the **OneHot** encoded County and MCC. It has a size of 7 and type float32. (Note they were int8 in the Numpy array)\n",
    "- The second tensor is the **Amount**.\n",
    "- The last tensor is the **Fraud** label."
   ]
  },
  {
   "cell_type": "code",
   "execution_count": 8,
   "id": "f2c6ec6a",
   "metadata": {},
   "outputs": [
    {
     "data": {
      "text/plain": [
       "((tensor([1., 0., 0., 0., 1., 0., 0.]), tensor([1.]), tensor([0.])),\n",
       " torch.Size([7]),\n",
       " torch.float32)"
      ]
     },
     "execution_count": 8,
     "metadata": {},
     "output_type": "execute_result"
    }
   ],
   "source": [
    "train_ds[0], train_ds[0][0].shape, train_ds[0][0].dtype"
   ]
  },
  {
   "cell_type": "markdown",
   "id": "c9c22fbe",
   "metadata": {},
   "source": [
    "## First Model\n",
    "\n",
    "We create a model in the typical PyTorch manner, by creating a new 'nn.Module' class. The `m0d3l` package has a set of pre-prepared models that know how to interpret the input and create a specific output. In this case we will create a new class that inherits from the `BinaryClassifier` m0d3l. A binary classifier, performs a classification task with a '0' or '1' target.\n",
    "\n",
    "We only need to worry about creating a layer that maps the input of the **Heads** to a specific **Output**.\n",
    "\n",
    "The 'Heads' are the first layer, they need to match the input `TensorInstance`. In our example we had 3 lists of which two (the OneHot and Amount) contain the input data and the third list is the labels.\n",
    "\n",
    "In this first example we will build an extremely simple model that consists of one linear layer only. During the forward pass, we just concatenate the heads, (that way we get a single tensor), run it through a **linear layer** and apply a **sigmoid** activation. \n",
    "\n",
    "The *input* to the linear layer is 8 (7 OneHot + 1 Amount Feature), the output is 1. \n",
    "\n",
    "The *output* of the linear layer is a sort of *'logits'*, after the sigmoid it becomes a number between 0 and 1, which we can, a bit hand-wavy, interpret as a **'probability'**. We have only one label but, still wrap it in a list. For consistency we always return a **Tuple of Tensors**, may seem strange now, but we will have models that make multiple predictions in one go.\n"
   ]
  },
  {
   "cell_type": "code",
   "execution_count": 9,
   "id": "b24e5c73",
   "metadata": {},
   "outputs": [
    {
     "data": {
      "text/plain": [
       "FirstModel(\n",
       "  Number of parameters : 9. Loss : SingleLabelBCELoss,  mean\n",
       "  (heads): ModuleList(\n",
       "    (0): TensorDefinitionHead(Name=Features_OH, lc=Binary)\n",
       "    (1): TensorDefinitionHead(Name=Feature_Amount, lc=Continuous)\n",
       "  )\n",
       "  (l1): Linear(in_features=8, out_features=1, bias=True)\n",
       "  (tail): Sigmoid()\n",
       ")"
      ]
     },
     "execution_count": 9,
     "metadata": {},
     "output_type": "execute_result"
    }
   ],
   "source": [
    "class FirstModel(mp.BinaryClassifier):\n",
    "    def __init__(self, tensor_instance: en.TensorInstanceNumpy):\n",
    "        # Always call init, it is very important to correctly initialize the nn.Module\n",
    "        super(FirstModel, self).__init__(tensor_instance)\n",
    "        \n",
    "        # Create the heads, they are the first layer of the NN.\n",
    "        self.heads = self.create_heads()\n",
    "        \n",
    "        # One Linear Layer that maps the output of the heads, size 11 to size 1.\n",
    "        self.l1 = nn.Linear(in_features=sum([h.output_size for h in self.heads]), out_features=1)\n",
    "        \n",
    "        # And a tail layer, for a binary classifier this is a Sigmoid.\n",
    "        self.tail = self.create_tail()\n",
    "\n",
    "    # Create a forward-pass function through the neural net. Make sure to return a Tuple of Tensors!\n",
    "    def forward(self, x: Tuple[torch.Tensor, ...]) -> Tuple[torch.Tensor,...]:\n",
    "        # Forward through the heads an concatenate\n",
    "        o = torch.cat([h(x[i]) for i, h in enumerate(self.heads)], dim=1)\n",
    "        # Forward through linear layer\n",
    "        o = self.l1(o)\n",
    "        # Forward through tail\n",
    "        o = self.tail(o)\n",
    "        # Return single item Tuple\n",
    "        return (o,)\n",
    "\n",
    "#Create a 'FirstModel' instance\n",
    "model = FirstModel(train)\n",
    "model"
   ]
  },
  {
   "cell_type": "markdown",
   "id": "91ed436a",
   "metadata": {},
   "source": [
    "Once the model is created we can run an example through. We can call the model on a specific entry of the DataSet. But we can't just feed all the Numpy arrays in the list, we can only give it the input data, the **x-es**, not the labels, the **y'**. The `get_x` method of the model know which Tensors are in input and extracts those. Let's run the 1st sample of the training set through the model.\n",
    "\n",
    "Calling model(*SOME_TENSORS*) will, via some PyTorch internals, end-up calling the *forward* method we defined in the model.\n",
    "\n",
    "We get a result that should correspond to the probability of this sample is a fraud. But obviously at this point in time that is not going to make a lot of sense, the model has not been trained yet."
   ]
  },
  {
   "cell_type": "code",
   "execution_count": 10,
   "id": "2b9ad5fe",
   "metadata": {},
   "outputs": [
    {
     "data": {
      "text/plain": [
       "0.4686119854450226"
      ]
     },
     "execution_count": 10,
     "metadata": {},
     "output_type": "execute_result"
    }
   ],
   "source": [
    "# Need ot unsqueeze, getting one item from a data-set looses the batch-dimension.\n",
    "inp = tuple(t.unsqueeze(dim=0) for t in model.get_x(train_ds[0]))\n",
    "model(inp)[0].item()"
   ]
  },
  {
   "attachments": {
    "EmbeddingIllustation.png": {
     "image/png": "[encoded data removed]"
    }
   },
   "cell_type": "markdown",
   "id": "b4cb8a75",
   "metadata": {},
   "source": [
    "### Embedding\n",
    "\n",
    "Looking at the previous example one might wonder why we have the headers. It might look simpler to just concatenate the input and feed it as one string.\n",
    "\n",
    "Besides being more interesting for the storage, there is an other important reason. In the f3atur3s notebooks we saw that we can create feature of type 'Categorical', like for instance the FeatureIndex and FeatureBin. Their output is an integer number, and integer numbers can not be fed as-is to Neural Nets, Neural Nets insist on working with 'Float' numbers.\n",
    "\n",
    "In such cases Neural Nets typical use **Embeddings**. We're not going to go into detail on Embeddings here, that might be a topic for a specific notebooks. But as sneak preview, think of an embedding as a multi-dimensional space in which the network can move the values around. The Neural Net can place them so that their relative distances across specific axis express some sort of meaning. It might for instance cluster similar items in a specific area of the space.\n",
    "\n",
    "For instance in our simple data-set with 3 countries, DE, GB and FR, and a 2 dimensional embedding. The model might decide to cluster DE and FR closer together as Germany and France share a land-border or maybe because they have the same currency....\n",
    "\n",
    "![EmbeddingIllustation.png](attachment:EmbeddingIllustation.png)\n",
    "\n",
    "The exact meaning of the positions does not need to make sense to humans, it sometimes does, but really only needs to make sense to the model."
   ]
  },
  {
   "cell_type": "markdown",
   "id": "87c50489",
   "metadata": {},
   "source": [
    "### Second Model"
   ]
  },
  {
   "cell_type": "markdown",
   "id": "67ed796b",
   "metadata": {},
   "source": [
    "Let try the example as previously, but this time encode the country and MCC as an **integer** rather than a OneHot Encoded vector. We use a `FeatureIndex` instead of a FeatureOneHot."
   ]
  },
  {
   "cell_type": "code",
   "execution_count": 11,
   "id": "a9d4b1ff",
   "metadata": {},
   "outputs": [
    {
     "name": "stderr",
     "output_type": "stream",
     "text": [
      "2023-04-02 12:06:12.387 eng1n3.common.engine           INFO     Start Engine...\n",
      "2023-04-02 12:06:12.388 eng1n3.pandas.pandasengine     INFO     Pandas Version : 1.5.3\n",
      "2023-04-02 12:06:12.389 eng1n3.pandas.pandasengine     INFO     Numpy Version : 1.23.5\n",
      "2023-04-02 12:06:12.389 eng1n3.pandas.pandasengine     INFO     Building Panda for : All_r_1 from file ./data/intro_card.csv\n",
      "2023-04-02 12:06:12.395 eng1n3.pandas.pandasengine     INFO     Reshaping DataFrame to: All_r_1\n",
      "2023-04-02 12:06:12.396 eng1n3.pandas.pandasengine     INFO     Converting All_r_1 to 3 numpy arrays\n"
     ]
    }
   ],
   "source": [
    "mcc_i = ft.FeatureIndex('MCC_I', ft.FEATURE_TYPE_INT_16, mcc)\n",
    "country_i = ft.FeatureIndex('Country_I', ft.FEATURE_TYPE_INT_16, country)\n",
    "\n",
    "td_i = ft.TensorDefinition('Features_I', [mcc_i, country_i])\n",
    "\n",
    "with en.EnginePandas(num_threads=1) as e:\n",
    "    ti = e.np_from_csv((td_i, td_amount, td_label), file, inference=False)\n",
    "\n",
    "# Split, again just for giggles\n",
    "train, val, test = ti.split_sequential(2,1)\n",
    "\n",
    "# Creating DataSets from our NumpyInstance\n",
    "train_ds = mp.TensorInstanceNumpyDataSet(train)\n",
    "val_ds   = mp.TensorInstanceNumpyDataSet(val)"
   ]
  },
  {
   "cell_type": "markdown",
   "id": "bc4d18e5",
   "metadata": {},
   "source": [
    "The content of the first list is diferent, we can see that it is of type 'int64' or 'Long', where previously it was a float32. It contains 2 numbers. \n",
    "\n",
    "For the first sample in our DataSet, the 2 numbers are '1' and '1'. Those correspond to the index of 'MCC 0001' and 'Country DE'."
   ]
  },
  {
   "cell_type": "code",
   "execution_count": 12,
   "id": "4ba600c0",
   "metadata": {},
   "outputs": [
    {
     "data": {
      "text/plain": [
       "((tensor([1, 1]), tensor([1.]), tensor([0.])), torch.Size([2]), torch.int64)"
      ]
     },
     "execution_count": 12,
     "metadata": {},
     "output_type": "execute_result"
    }
   ],
   "source": [
    "train_ds[0], train_ds[0][0].shape, train_ds[0][0].dtype"
   ]
  },
  {
   "cell_type": "code",
   "execution_count": 13,
   "id": "8ed172d5",
   "metadata": {},
   "outputs": [
    {
     "data": {
      "text/plain": [
       "(1, 1)"
      ]
     },
     "execution_count": 13,
     "metadata": {},
     "output_type": "execute_result"
    }
   ],
   "source": [
    "mcc_i.dictionary['0001'], country_i.dictionary['DE']"
   ]
  },
  {
   "cell_type": "markdown",
   "id": "620f5ab8",
   "metadata": {},
   "source": [
    "Below we create a second model. It's almost exactly the same as the first model with the exception of the `create_heads` method call. Here we provide 4 extra parameters:\n",
    "- **dim_ratio (float)**: Determines the size of the embedding. The size of the embedding is `element_count * dim_ratio`.\n",
    "- **min_dims (int)**: If the embedding size as calcuated per above is smaller than min_dim, then use min_dim as size\n",
    "- **min_dims (int)**: If the embedding size as calcuated per above is bigger than max_dim, then use max_dim as size.\n",
    "- **dropout (float)**: A dropout ratio to apply to the combined embedding output.\n",
    "\n",
    "In the output we can see that the header layer looks differently. We still have 2 heads. The second head is the amount, the first one is the head for the 'FeatureIndex' features. It contains an Embedding for each feature. \n",
    "- The **first** Embedding has a size (5x2). 5 is the number of entries (our 4 MCC codes) + 1 (for unknown). 2 is the size of each embedding. that is 5x 0.5 (the dim_ratio), rounded down.\n",
    "- The **second** Embedding has a size (4x2). 5 is the number of entries (our 3 Countries) + 1. 2 is the (4 * 0.5). If there would have been 2 entries, then the size would still have been 2, the *min_dim* would have kicked in.\n",
    "\n",
    "An embedding layer will forward through each embedding and then concatenate the ouput. That output will be of size *'sum of the embedding dimensions'* In our case 2 for the MCC Embedding + 2 for the Country Embedding.\n",
    "\n",
    "After the concatenation this model applies a **dropout** layer with a percentage of 0.1, this layer will randomly change 10% of the node outputs to 0, that introduces a bit of randomness and generally speaking helps the model generalize better.\n",
    "\n",
    "The Linear Layer has an input size of 5 after concatenation of all the heads. That is 2 (size of MCC embedding) + 2 (size of Country Embedding) + 1 for the amount."
   ]
  },
  {
   "cell_type": "code",
   "execution_count": 14,
   "id": "f9d378ee",
   "metadata": {},
   "outputs": [
    {
     "data": {
      "text/plain": [
       "SecondModel(\n",
       "  Number of parameters : 24. Loss : SingleLabelBCELoss,  mean\n",
       "  (heads): ModuleList(\n",
       "    (0): TensorDefinitionHead(\n",
       "      Name=Features_I, lc=Categorical\n",
       "      (embedding): Embedding(\n",
       "        (embeddings): ModuleList(\n",
       "          (0): Embedding(5, 2)\n",
       "          (1): Embedding(4, 2)\n",
       "        )\n",
       "        (dropout): Dropout(p=0.1, inplace=False)\n",
       "      )\n",
       "    )\n",
       "    (1): TensorDefinitionHead(Name=Feature_Amount, lc=Continuous)\n",
       "  )\n",
       "  (l1): Linear(in_features=5, out_features=1, bias=True)\n",
       "  (tail): Sigmoid()\n",
       ")"
      ]
     },
     "execution_count": 14,
     "metadata": {},
     "output_type": "execute_result"
    }
   ],
   "source": [
    "class SecondModel(mp.BinaryClassifier):\n",
    "    def __init__(self, tensor_instance: en.TensorInstanceNumpy):\n",
    "        super(SecondModel, self).__init__(tensor_instance)\n",
    "        self.heads = self.create_heads(dim_ratio=0.6, min_dims=2, max_dims=5, dropout=0.1)\n",
    "        self.l1 = nn.Linear(in_features=sum([h.output_size for h in self.heads]), out_features=1)\n",
    "        self.tail = self.create_tail()\n",
    "\n",
    "    def forward(self, x: Tuple[torch.Tensor, ...]) -> Tuple[torch.Tensor, ...]:\n",
    "        o = torch.cat([h(x[i]) for i, h in enumerate(self.heads)], dim=1)\n",
    "        o = self.l1(o)\n",
    "        o = self.tail(o)\n",
    "        return (o,)\n",
    "    \n",
    "model = SecondModel(train)\n",
    "model"
   ]
  },
  {
   "cell_type": "markdown",
   "id": "6e48052d",
   "metadata": {},
   "source": [
    "#### Plotting the Embedding\n",
    "In order to sort of get a feel for the embeddings, we can try to plot them. (Ours conviently have 2 dimensions, so they are something our brains can understand). Let's try for the MCC Index Feature.\n",
    "\n",
    "The weights can be accessed and converted to numpy. That numpy array has a size 5x2. As we mentioned previously each row is an MCC code, the 0th row is the unknown element. And each row has 2 entries, because that is the dimensions of the embedding. "
   ]
  },
  {
   "cell_type": "code",
   "execution_count": 15,
   "id": "b7c4a13e",
   "metadata": {},
   "outputs": [
    {
     "data": {
      "text/plain": [
       "((5, 2),\n",
       " array([[ 0.79398227, -0.7142445 ],\n",
       "        [ 0.06384993, -1.186797  ],\n",
       "        [ 0.14305125, -0.10017417],\n",
       "        [ 0.81404525,  1.0633466 ],\n",
       "        [-0.33743072, -0.10665843]], dtype=float32))"
      ]
     },
     "execution_count": 15,
     "metadata": {},
     "output_type": "execute_result"
    }
   ],
   "source": [
    "mcc_weights = model.heads[0].embedding.embedding_weight(mcc_i).detach().numpy()\n",
    "mcc_weights.shape, mcc_weights"
   ]
  },
  {
   "cell_type": "markdown",
   "id": "bebdeaff",
   "metadata": {},
   "source": [
    "We can plot these numpy arrays in a scatter plot using `matplotlib`"
   ]
  },
  {
   "cell_type": "code",
   "execution_count": 16,
   "id": "31fe9a20",
   "metadata": {},
   "outputs": [
    {
     "data": {
      "text/plain": [
       "Text(0, 0.5, 'Y')"
      ]
     },
     "execution_count": 16,
     "metadata": {},
     "output_type": "execute_result"
    },
    {
     "data": {
      "image/png": "[encoded data removed]",
      "text/plain": [
       "<Figure size 640x480 with 1 Axes>"
      ]
     },
     "metadata": {},
     "output_type": "display_data"
    }
   ],
   "source": [
    "x, y = mcc_weights[:, 0], mcc_weights[:, 1]\n",
    "\n",
    "ticks = [-3.0, -2.5, -2.0, -1.5, -1.0, -0.5, 0, 0.5, 1.0, 1.5, 2.0, 2.5, 3.0]\n",
    "\n",
    "plt.title('MCC Embedding')\n",
    "plt.scatter(x, y, s=1000)\n",
    "plt.xticks(ticks)\n",
    "plt.yticks(ticks)\n",
    "for l,i in [('Unk', 0)] + sorted(list(mcc_i.dictionary.items()), key= lambda x: x[1]):\n",
    "    plt.text(x[i], y[i], l, ha='center', va='center', color='white')\n",
    "plt.xlabel('X')\n",
    "plt.ylabel('Y')"
   ]
  },
  {
   "cell_type": "markdown",
   "id": "129b5fe2",
   "metadata": {},
   "source": [
    "Note that at present, the entries are just randomly mapped, the model has not been trained so this plot means nothing. But as the model is trained, it will shift the x and y coordinates of each of the elements so their relative position is useful for solving the problem at hand.\n",
    "\n",
    "Say for instance that MCC codes **0001** and **0003** are used regulary at the same Merchants and broadly speaking have the same amount, the model **might** decide that it is interesting to have them close together."
   ]
  },
  {
   "cell_type": "code",
   "execution_count": 17,
   "id": "c1f1c71a",
   "metadata": {},
   "outputs": [
    {
     "data": {
      "text/plain": [
       "Text(0, 0.5, 'Y')"
      ]
     },
     "execution_count": 17,
     "metadata": {},
     "output_type": "execute_result"
    },
    {
     "data": {
      "image/png": "[encoded data removed]",
      "text/plain": [
       "<Figure size 640x480 with 1 Axes>"
      ]
     },
     "metadata": {},
     "output_type": "display_data"
    }
   ],
   "source": [
    "x[mcc_i.dictionary['0003']] = x[mcc_i.dictionary['0001']] + 0.10\n",
    "y[mcc_i.dictionary['0003']] = y[mcc_i.dictionary['0001']] - 0.10\n",
    "\n",
    "ticks = [-3.0, -2.5, -2.0, -1.5, -1.0, -0.5, 0, 0.5, 1.0, 1.5, 2.0, 2.5, 3.0]\n",
    "\n",
    "plt.title('MCC Embedding')\n",
    "plt.scatter(x, y, s=1000)\n",
    "plt.xticks(ticks)\n",
    "plt.yticks(ticks)\n",
    "for l,i in [('Unk', 0)] + sorted(list(mcc_i.dictionary.items()), key= lambda x: x[1]):\n",
    "    plt.text(x[i], y[i], l, ha='center', va='center', color='white')\n",
    "plt.xlabel('X')\n",
    "plt.ylabel('Y')"
   ]
  },
  {
   "cell_type": "markdown",
   "id": "c6b11367",
   "metadata": {},
   "source": [
    "### Loss\n",
    "\n",
    "During training we will try to optimize (i.e. reduce) a loss. The loss is a number that indicates how good the predictions are that were made by the model. Training is an iterative process where we aim to reduce the loss. \n",
    "\n",
    "The specific loss function we use depends on how and what we are predicting, for instance regression vs classification, multi-class vs single-class etc... \n",
    "\n",
    "Luckily our 'model' knows which function to use. We are doing **a single label, single class classification** problem, so it knows it's probably best to use **BinaryCrossEntropy**."
   ]
  },
  {
   "cell_type": "code",
   "execution_count": 18,
   "id": "667af60f",
   "metadata": {},
   "outputs": [
    {
     "data": {
      "text/plain": [
       "SingleLabelBCELoss,  mean"
      ]
     },
     "execution_count": 18,
     "metadata": {},
     "output_type": "execute_result"
    }
   ],
   "source": [
    "l_fn = model.loss_fn\n",
    "l_fn"
   ]
  },
  {
   "cell_type": "markdown",
   "id": "be19b719",
   "metadata": {},
   "source": [
    "#### Getting rid  of Randomness\n",
    "\n",
    "If we were to process the same record through our second model repeatedly, we would find that we get a **different result** each time. The ouput would be more or less random, strange! The reason we have this randomness is the `dropout` layer in the header, it randomly replaces 10% of the combined Embedding ouput by 0. We did this so the model generalizes better, but it also make our output feel random. There are various things we could do to fix this.\n",
    "\n",
    "1. We could revert back to one-hot encoded input, there was no associated drop-out in the header for those, we only apply dropout to the 'Embedding' features.\n",
    "\n",
    "2. We could specify a dropout of 0. The the header layer would omit the dropout layer.\n",
    "\n",
    "3. We can put the model in 'evaluation' mode. In 'evaluation' mode PyTorch gets rid of some training specifics, not only for the drop-out, but for other layers also.\n",
    "\n",
    "In inference mode, we should **always** be putting the model in `evaluation` mode, let's get into the good habit of doing so;"
   ]
  },
  {
   "cell_type": "code",
   "execution_count": 19,
   "id": "80a44ac8",
   "metadata": {},
   "outputs": [
    {
     "data": {
      "text/plain": [
       "SecondModel(\n",
       "  Number of parameters : 24. Loss : SingleLabelBCELoss,  mean\n",
       "  (heads): ModuleList(\n",
       "    (0): TensorDefinitionHead(\n",
       "      Name=Features_I, lc=Categorical\n",
       "      (embedding): Embedding(\n",
       "        (embeddings): ModuleList(\n",
       "          (0): Embedding(5, 2)\n",
       "          (1): Embedding(4, 2)\n",
       "        )\n",
       "        (dropout): Dropout(p=0.1, inplace=False)\n",
       "      )\n",
       "    )\n",
       "    (1): TensorDefinitionHead(Name=Feature_Amount, lc=Continuous)\n",
       "  )\n",
       "  (l1): Linear(in_features=5, out_features=1, bias=True)\n",
       "  (tail): Sigmoid()\n",
       ")"
      ]
     },
     "execution_count": 19,
     "metadata": {},
     "output_type": "execute_result"
    }
   ],
   "source": [
    "model.eval()"
   ]
  },
  {
   "cell_type": "markdown",
   "id": "fa14f85c",
   "metadata": {},
   "source": [
    "We can now calculate the predicted y **(y_pred)** and fetch the actual y (the fraud label). Like is the case for the 'x'-es, the model knows how to get the 'y'-s from the input DataSet. (It does so by index, the index of the TensorDefinition with the `FeatureLabel` to be more specific)"
   ]
  },
  {
   "cell_type": "code",
   "execution_count": 20,
   "id": "1a570b46",
   "metadata": {},
   "outputs": [
    {
     "name": "stdout",
     "output_type": "stream",
     "text": [
      "y=0.0, y_pred=0.23128648102283478\n"
     ]
    }
   ],
   "source": [
    "# This is the actual label \n",
    "y = model.get_y(train_ds[0])\n",
    "\n",
    "# This is what our UNTRAINED model predicts\n",
    "inp = tuple(t.unsqueeze(dim=0) for t in model.get_x(train_ds[0]))\n",
    "y_pred = model(inp)\n",
    "\n",
    "print(f'y={y[0].item()}, y_pred={y_pred[0].item()}')"
   ]
  },
  {
   "cell_type": "markdown",
   "id": "1ce5de83",
   "metadata": {},
   "source": [
    "Once we have those we can determine the loss, i.e. the measure we use in Neural Nets to quantify how `accurate` the model predictions are. When we train a model, the objective will be to reduce this loss, so that the predicted 'y'-s get closer to the actual y label."
   ]
  },
  {
   "cell_type": "code",
   "execution_count": 21,
   "id": "ecb12932",
   "metadata": {},
   "outputs": [
    {
     "data": {
      "text/plain": [
       "tensor(0.2630, grad_fn=<BinaryCrossEntropyBackward0>)"
      ]
     },
     "execution_count": 21,
     "metadata": {},
     "output_type": "execute_result"
    }
   ],
   "source": [
    "l_fn(y_pred, y)"
   ]
  },
  {
   "cell_type": "markdown",
   "id": "f2864a55",
   "metadata": {},
   "source": [
    "## Conclusion\n",
    "\n",
    "We created a first very simple model, saw how it can make a prediction and how we measure how good that prediction is. Next up, we start training the model."
   ]
  }
 ],
 "metadata": {
  "kernelspec": {
   "display_name": "Python 3 (ipykernel)",
   "language": "python",
   "name": "python3"
  },
  "language_info": {
   "codemirror_mode": {
    "name": "ipython",
    "version": 3
   },
   "file_extension": ".py",
   "mimetype": "text/x-python",
   "name": "python",
   "nbconvert_exporter": "python",
   "pygments_lexer": "ipython3",
   "version": "3.10.6"
  }
 },
 "nbformat": 4,
 "nbformat_minor": 5
}
